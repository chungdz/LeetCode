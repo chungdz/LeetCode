{
 "cells": [
  {
   "cell_type": "code",
   "execution_count": 29,
   "id": "d38bbde5",
   "metadata": {},
   "outputs": [],
   "source": [
    "class Solution:\n",
    "    def lengthOfLongestSubstringKDistinct(self, s: str, k: int) -> int:\n",
    "        \n",
    "        record = {}\n",
    "        max_left, max_size = 0, 1\n",
    "        lp, rp = 0, -1\n",
    "\n",
    "        if k == 0:\n",
    "            return 0\n",
    "\n",
    "        total_size = len(s)\n",
    "        while True:\n",
    "            while rp + 1 < total_size and (len(record) < k or s[rp + 1] in record):\n",
    "                rp += 1\n",
    "                if s[rp] not in record:\n",
    "                    record[s[rp]] = 1\n",
    "                else:\n",
    "                    record[s[rp]] += 1\n",
    "                \n",
    "\n",
    "            if rp - lp + 1 > max_size:\n",
    "                max_size = rp - lp + 1\n",
    "                max_left = lp\n",
    "            \n",
    "            if rp == total_size - 1 :\n",
    "                break\n",
    "            \n",
    "            while len(record) == k:\n",
    "                record[s[lp]] -= 1\n",
    "                if record[s[lp]] == 0:\n",
    "                    record.pop(s[lp])\n",
    "                lp += 1\n",
    "                \n",
    "\n",
    "        return max_size"
   ]
  },
  {
   "cell_type": "code",
   "execution_count": 30,
   "id": "7863b86d",
   "metadata": {},
   "outputs": [],
   "source": [
    "s = Solution()"
   ]
  },
  {
   "cell_type": "code",
   "execution_count": 31,
   "id": "d68fae86",
   "metadata": {},
   "outputs": [
    {
     "name": "stdout",
     "output_type": "stream",
     "text": [
      "{'e': 2, 'c': 1}\n",
      "{'e': 1, 'b': 1}\n"
     ]
    },
    {
     "data": {
      "text/plain": [
       "3"
      ]
     },
     "execution_count": 31,
     "metadata": {},
     "output_type": "execute_result"
    }
   ],
   "source": [
    "s.lengthOfLongestSubstringKDistinct(\"eceba\", 2)"
   ]
  },
  {
   "cell_type": "code",
   "execution_count": null,
   "id": "afa0ba0e",
   "metadata": {},
   "outputs": [],
   "source": []
  }
 ],
 "metadata": {
  "kernelspec": {
   "display_name": "Python 3 (ipykernel)",
   "language": "python",
   "name": "python3"
  },
  "language_info": {
   "codemirror_mode": {
    "name": "ipython",
    "version": 3
   },
   "file_extension": ".py",
   "mimetype": "text/x-python",
   "name": "python",
   "nbconvert_exporter": "python",
   "pygments_lexer": "ipython3",
   "version": "3.9.7"
  }
 },
 "nbformat": 4,
 "nbformat_minor": 5
}
